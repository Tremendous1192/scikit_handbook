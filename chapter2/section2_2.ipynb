{
 "cells": [
  {
   "cell_type": "code",
   "execution_count": 8,
   "metadata": {},
   "outputs": [
    {
     "name": "stdout",
     "output_type": "stream",
     "text": [
      "21073.257164930645\n",
      "40.553228067783735\n"
     ]
    }
   ],
   "source": [
    "from sklearn.datasets import load_boston\n",
    "boston = load_boston()\n",
    "#print(boston.DESCR)\n",
    "\n",
    "import pandas as pd\n",
    "#1.必要なデータの読み込み\n",
    "df=pd.DataFrame(boston.data,columns = boston.feature_names) #説明変数を読込\n",
    "df['MEDV'] = boston.target #目的変数を読込\n",
    "x=df.RM.to_frame()\n",
    "y=df.MEDV\n",
    "#print(x)\n",
    "#print(y)\n",
    "\n",
    "from sklearn.model_selection import train_test_split\n",
    "#2.訓練データと評価データに分割\n",
    "(x_train, x_test, y_train, y_test) = train_test_split(x, y, test_size=0.3)\n",
    "\n",
    "from sklearn.linear_model import LinearRegression\n",
    "#3.モデル選択 -> 線形回帰\n",
    "lr = LinearRegression()\n",
    "\n",
    "#4.学習\n",
    "lr.fit(x_train, y_train)\n",
    "\n",
    "#5. 評価データを使った予測               \n",
    "y_pred=lr.predict(x_test)\n",
    "print(y_pred[0]*1000) \n",
    "\n",
    "from sklearn.metrics import mean_squared_error\n",
    "#6.モデルの評価\n",
    "mse=mean_squared_error(y_test, y_pred)\n",
    "print(mse)"
   ]
  },
  {
   "cell_type": "code",
   "execution_count": null,
   "metadata": {},
   "outputs": [],
   "source": []
  }
 ],
 "metadata": {
  "kernelspec": {
   "display_name": "Python 3",
   "language": "python",
   "name": "python3"
  },
  "language_info": {
   "codemirror_mode": {
    "name": "ipython",
    "version": 3
   },
   "file_extension": ".py",
   "mimetype": "text/x-python",
   "name": "python",
   "nbconvert_exporter": "python",
   "pygments_lexer": "ipython3",
   "version": "3.7.0"
  }
 },
 "nbformat": 4,
 "nbformat_minor": 2
}
