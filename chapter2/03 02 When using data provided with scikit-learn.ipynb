{
 "cells": [
  {
   "cell_type": "markdown",
   "metadata": {},
   "source": [
    "## scikit-learn付属のデータを使用する場合\n",
    "```scikit-learn``` version 1.2(2022年12月)から ```load_boston```が削除された.\\\n",
    "このコードでは代わりのデータセットを読み込んでモデルを学習する."
   ]
  },
  {
   "cell_type": "code",
   "execution_count": 6,
   "metadata": {},
   "outputs": [
    {
     "name": "stderr",
     "output_type": "stream",
     "text": [
      "<>:5: SyntaxWarning: invalid escape sequence '\\s'\n",
      "<>:5: SyntaxWarning: invalid escape sequence '\\s'\n",
      "C:\\Users\\treme\\AppData\\Local\\Temp\\ipykernel_6892\\2842734922.py:5: SyntaxWarning: invalid escape sequence '\\s'\n",
      "  raw_df = pd.read_csv(data_url, sep=\"\\s+\", skiprows=22, header=None)\n"
     ]
    },
    {
     "name": "stdout",
     "output_type": "stream",
     "text": [
      "[21968.18256905]\n",
      "25.55664665444012\n"
     ]
    }
   ],
   "source": [
    "#1.必要なデータの読み込み\n",
    "import numpy as np\n",
    "import pandas as pd\n",
    "data_url = \"http://lib.stat.cmu.edu/datasets/boston\"\n",
    "raw_df = pd.read_csv(data_url, sep=\"\\s+\", skiprows=22, header=None)\n",
    "X = np.hstack([raw_df.values[::2, :], raw_df.values[1::2, :2]])\n",
    "y = raw_df.values[1::2, 2].reshape(-1, 1)\n",
    "#print(X.head())\n",
    "#print(y)\n",
    "\n",
    "#2.訓練データと評価データに分割\n",
    "from sklearn.model_selection import train_test_split\n",
    "X_train, X_test, y_train, y_test = train_test_split(X, y, test_size=0.3)\n",
    "\n",
    "#3.モデル選択 -> 線形回帰\n",
    "from sklearn.linear_model import LinearRegression\n",
    "lr = LinearRegression()\n",
    "\n",
    "#4.学習\n",
    "lr.fit(X_train, y_train)\n",
    "\n",
    "#5. 評価データを使った予測               \n",
    "y_pred = lr.predict(X_test)\n",
    "print(y_pred[0] * 1000) \n",
    "\n",
    "#6.モデルの評価\n",
    "from sklearn.metrics import mean_squared_error\n",
    "mse = mean_squared_error(y_test, y_pred)\n",
    "print(mse)"
   ]
  }
 ],
 "metadata": {
  "kernelspec": {
   "display_name": "Python 3",
   "language": "python",
   "name": "python3"
  },
  "language_info": {
   "codemirror_mode": {
    "name": "ipython",
    "version": 3
   },
   "file_extension": ".py",
   "mimetype": "text/x-python",
   "name": "python",
   "nbconvert_exporter": "python",
   "pygments_lexer": "ipython3",
   "version": "3.12.2"
  }
 },
 "nbformat": 4,
 "nbformat_minor": 2
}
