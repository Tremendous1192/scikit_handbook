{
 "cells": [
  {
   "cell_type": "code",
   "execution_count": 3,
   "metadata": {
    "scrolled": true
   },
   "outputs": [
    {
     "name": "stdout",
     "output_type": "stream",
     "text": [
      "評価結果を出力\n",
      " [3. 1. 3. 3. 2. 1.]\n",
      "正解率を出力\n",
      " 0.3333333333333333\n"
     ]
    }
   ],
   "source": [
    "import numpy as np\n",
    "#1.必要なデータの読み込み\n",
    "npArray = np.loadtxt(\"in.csv\", delimiter = \",\", dtype = \"float\",skiprows=1)\n",
    "x = npArray[:, 1:3]\n",
    "y = npArray[:, 3:4].ravel()\n",
    "#print(\"説明変数を出力\\n\", x)\n",
    "#print(\"目的変数を出力\\n\", y)\n",
    "\n",
    "from sklearn.model_selection import train_test_split\n",
    "#2.訓練データと評価データに分割\n",
    "x_train, x_test, y_train, y_test = train_test_split(x, y, test_size=0.3)\n",
    "#print(\"訓練用の説明変数を出力\\n\", x_train)\n",
    "#print(\"訓練用の目的変数を出力\\n\", y_train)\n",
    "#print(\"評価用の説明変数を出力\\n\", x_test)\n",
    "#print(\"評価用の目的変数を出力\\n\", y_test)\n",
    "\n",
    "from sklearn import tree\n",
    "#3.モデル選択 -> 決定木\n",
    "clf = tree.DecisionTreeClassifier()\n",
    "\n",
    "#4.学習\n",
    "clf.fit(x_train, y_train)\n",
    "\n",
    "#5.予測\n",
    "predict = clf.predict(x_test)\n",
    "print(\"評価結果を出力\\n\", predict)\n",
    "\n",
    "from sklearn.metrics import accuracy_score\n",
    "#6. モデルの評価\n",
    "print(\"正解率を出力\\n\", accuracy_score(y_test, predict))"
   ]
  }
 ],
 "metadata": {
  "kernelspec": {
   "display_name": "Python 3",
   "language": "python",
   "name": "python3"
  },
  "language_info": {
   "codemirror_mode": {
    "name": "ipython",
    "version": 3
   },
   "file_extension": ".py",
   "mimetype": "text/x-python",
   "name": "python",
   "nbconvert_exporter": "python",
   "pygments_lexer": "ipython3",
   "version": "3.12.2"
  }
 },
 "nbformat": 4,
 "nbformat_minor": 2
}
