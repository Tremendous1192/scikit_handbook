{
 "cells": [
  {
   "cell_type": "markdown",
   "metadata": {},
   "source": [
    "# 第7章_モデルの評価\n",
    "\n",
    "\n",
    "書籍に記載のサンプルプログラムのままですと、  \n",
    "将来のscikit-learnのバージョンアップによってのwarning（警告）が出ますが  \n",
    "プログラム的には影響はありません。  \n",
    "本Notebookでは、warnings モジュールを用いて警告を非表示にしています。"
   ]
  },
  {
   "cell_type": "code",
   "execution_count": 25,
   "metadata": {},
   "outputs": [],
   "source": [
    "# 警告を非表示に設定\n",
    "import warnings\n",
    "warnings.filterwarnings('ignore')"
   ]
  },
  {
   "cell_type": "markdown",
   "metadata": {},
   "source": [
    "# ホールドアウト法"
   ]
  },
  {
   "cell_type": "code",
   "execution_count": 86,
   "metadata": {},
   "outputs": [],
   "source": [
    "from sklearn.datasets import load_iris\n",
    "iris = load_iris()\n",
    "X, y = iris.data, iris.target"
   ]
  },
  {
   "cell_type": "code",
   "execution_count": 87,
   "metadata": {},
   "outputs": [],
   "source": [
    "from sklearn.model_selection import train_test_split\n",
    "\n",
    "X_train, X_test, y_train, y_test = train_test_split(X, y)"
   ]
  },
  {
   "cell_type": "markdown",
   "metadata": {},
   "source": [
    "# k- 分割交差検証"
   ]
  },
  {
   "cell_type": "code",
   "execution_count": 26,
   "metadata": {},
   "outputs": [
    {
     "name": "stdout",
     "output_type": "stream",
     "text": [
      "[0.96078431 0.92156863 0.95833333]\n",
      "[1.         0.96666667 0.93333333 0.9        1.        ]\n"
     ]
    }
   ],
   "source": [
    "from sklearn.model_selection import cross_val_score\n",
    "from sklearn.linear_model import LogisticRegression\n",
    "from sklearn.datasets import load_iris\n",
    "iris = load_iris()\n",
    "model = LogisticRegression()\n",
    "# 初期値は3分割\n",
    "scores = cross_val_score(model, iris.data, iris.target)\n",
    "print(scores)\n",
    "# cvに指定の数値を入れると分割数を自由に設定できる\n",
    "scores = cross_val_score(model, iris.data, iris.target, cv=5)\n",
    "print(scores)"
   ]
  },
  {
   "cell_type": "markdown",
   "metadata": {},
   "source": [
    "# 層化 k 分割交差検証"
   ]
  },
  {
   "cell_type": "code",
   "execution_count": 27,
   "metadata": {},
   "outputs": [
    {
     "name": "stdout",
     "output_type": "stream",
     "text": [
      "[0. 0. 0.]\n",
      "[0.9  0.96 0.96]\n"
     ]
    }
   ],
   "source": [
    "from sklearn.model_selection import KFold\n",
    "from sklearn.linear_model import LogisticRegression\n",
    "kfold = KFold(n_splits=3) # 分類はデフォルトでは層化交差検証だが、KFoldを使 うと回帰でデフォルトの交差検証になる。\n",
    "iris = load_iris()\n",
    "model = LogisticRegression()\n",
    "# [0. 0. 0.]\n",
    "print(cross_val_score(model, iris.data, iris.target,cv=kfold))\n",
    "# 層化して分割する代わりに、データのシャッフルが可能\n",
    "kfold = KFold(n_splits=3, shuffle=True, random_state=0)\n",
    "# [0.9 0.96 0.96]\n",
    "print(cross_val_score(model, iris.data, iris.target, cv=kfold))"
   ]
  },
  {
   "cell_type": "markdown",
   "metadata": {},
   "source": [
    "# 1 つ抜き交差検証(leave-one-out)"
   ]
  },
  {
   "cell_type": "code",
   "execution_count": 28,
   "metadata": {},
   "outputs": [
    {
     "name": "stdout",
     "output_type": "stream",
     "text": [
      "150\n",
      "0.9533333333333334\n"
     ]
    }
   ],
   "source": [
    "from sklearn.model_selection import LeaveOneOut\n",
    "from sklearn.linear_model import LogisticRegression\n",
    "iris = load_iris()\n",
    "model = LogisticRegression()\n",
    "lo = LeaveOneOut()\n",
    "scores = cross_val_score(model, iris.data, iris.target, cv=lo)\n",
    "print(len(scores))\n",
    "print(scores.mean())"
   ]
  },
  {
   "cell_type": "markdown",
   "metadata": {},
   "source": [
    "# シャッフル分割交差検証"
   ]
  },
  {
   "cell_type": "code",
   "execution_count": 29,
   "metadata": {},
   "outputs": [],
   "source": [
    "from sklearn.model_selection import ShuffleSplit\n",
    "from sklearn.linear_model import LogisticRegression\n",
    "iris = load_iris()\n",
    "model = LogisticRegression()"
   ]
  },
  {
   "cell_type": "code",
   "execution_count": 39,
   "metadata": {},
   "outputs": [
    {
     "name": "stdout",
     "output_type": "stream",
     "text": [
      "[0.86666667 0.94666667 0.94666667 0.97333333 0.96       0.85333333\n",
      " 0.97333333 0.90666667 0.88       0.93333333]\n"
     ]
    }
   ],
   "source": [
    "shuffle_split = ShuffleSplit(test_size=.5, train_size=0.5,n_splits=10)\n",
    "\n",
    "scores = cross_val_score(model, iris.data, iris.target, cv=shuffle_split)\n",
    "print(scores)"
   ]
  },
  {
   "cell_type": "markdown",
   "metadata": {},
   "source": [
    "# 交差検証を用いたグリッドサーチ"
   ]
  },
  {
   "cell_type": "code",
   "execution_count": 40,
   "metadata": {},
   "outputs": [
    {
     "data": {
      "text/plain": [
       "0.9736842105263158"
      ]
     },
     "execution_count": 40,
     "metadata": {},
     "output_type": "execute_result"
    }
   ],
   "source": [
    "from sklearn.model_selection import GridSearchCV\n",
    "from sklearn.model_selection import train_test_split\n",
    "from sklearn.svm import SVC\n",
    "from sklearn.datasets import load_iris\n",
    "\n",
    "iris = load_iris()\n",
    "# サーチするパラメータのグリッド\n",
    "param_grid={'C':[0.001,0.01,0.1,1,10,100],\n",
    "'gamma':[0.001,0.01,0.1,1,10,100]}\n",
    "# モデルSVC、作成したグリッド、交差検証戦略は5分割層化交差検証\n",
    "grid_search = GridSearchCV(SVC(), param_grid, cv=5)\n",
    "# テストデータと訓練データに分ける\n",
    "X_train, X_test, y_train, y_test = train_test_split(\n",
    "iris.data, iris.target, random_state=0)\n",
    "# 訓練データを用いてモデル構築。この際、cv=5にしているので訓練データは内部で訓練デー タ ( 小 )と 検 証 デ ー タ に 分 か れ て 5 分 割 層 化 交 差 検 証 さ れ て い る\n",
    "grid_search.fit(X_train,y_train)\n",
    "grid_search.score(X_test,y_test)"
   ]
  },
  {
   "cell_type": "code",
   "execution_count": 42,
   "metadata": {},
   "outputs": [
    {
     "name": "stdout",
     "output_type": "stream",
     "text": [
      "<bound method BaseSearchCV.score of GridSearchCV(cv=5, error_score='raise-deprecating',\n",
      "       estimator=SVC(C=1.0, cache_size=200, class_weight=None, coef0=0.0,\n",
      "  decision_function_shape='ovr', degree=3, gamma='auto_deprecated',\n",
      "  kernel='rbf', max_iter=-1, probability=False, random_state=None,\n",
      "  shrinking=True, tol=0.001, verbose=False),\n",
      "       fit_params=None, iid='warn', n_jobs=None,\n",
      "       param_grid={'C': [0.001, 0.01, 0.1, 1, 10, 100], 'gamma': [0.001, 0.01, 0.1, 1, 10, 100]},\n",
      "       pre_dispatch='2*n_jobs', refit=True, return_train_score='warn',\n",
      "       scoring=None, verbose=0)>\n",
      "{'C': 100, 'gamma': 0.01}\n"
     ]
    }
   ],
   "source": [
    "print(grid_search.score) # 各スコア\n",
    "print(grid_search.best_params_) # 最適化したパラメータ"
   ]
  },
  {
   "cell_type": "markdown",
   "metadata": {},
   "source": [
    "# 混同行列"
   ]
  },
  {
   "cell_type": "code",
   "execution_count": 43,
   "metadata": {},
   "outputs": [
    {
     "name": "stdout",
     "output_type": "stream",
     "text": [
      "[[4 1]\n",
      " [2 3]]\n"
     ]
    }
   ],
   "source": [
    "from sklearn.metrics import confusion_matrix\n",
    "# データの読み込み\n",
    "y_test = [0,0,0,0,0,1,1,1,1,1]\n",
    "pred = [0,1,0,0,0,0,0,1,1,1]\n",
    "confusion = confusion_matrix(y_test, pred)\n",
    "print(confusion) # 混同行列を出力"
   ]
  },
  {
   "cell_type": "code",
   "execution_count": 50,
   "metadata": {},
   "outputs": [],
   "source": [
    "y_test = [0, 1, 0, 1, 1]\n",
    "pred = [0, 1, 0, 0, 1]"
   ]
  },
  {
   "cell_type": "markdown",
   "metadata": {},
   "source": [
    "# 適合率、再現率、F値"
   ]
  },
  {
   "cell_type": "code",
   "execution_count": 51,
   "metadata": {},
   "outputs": [
    {
     "name": "stdout",
     "output_type": "stream",
     "text": [
      "Precision: 1.0\n",
      "Recall: 0.6666666666666666\n",
      "F1 score: 0.8\n"
     ]
    }
   ],
   "source": [
    "from sklearn.metrics import precision_score\n",
    "print('Precision:', precision_score(y_test, pred))\n",
    "from sklearn.metrics import recall_score\n",
    "print('Recall:', recall_score(y_test, pred)) # 書籍ではy_predとなっておりますが、predです。\n",
    "from sklearn.metrics import f1_score\n",
    "print('F1 score:', f1_score(y_test,pred))"
   ]
  },
  {
   "cell_type": "markdown",
   "metadata": {},
   "source": [
    "# 回帰評価方法(RMSE)"
   ]
  },
  {
   "cell_type": "code",
   "execution_count": 53,
   "metadata": {},
   "outputs": [],
   "source": [
    "y_true = [0, 2, 2, 1, 1, 3] # 実際の値\n",
    "pred = [0, 1.7, 3.1, 3.1, 1.6, 2.7] # 予測した値"
   ]
  },
  {
   "cell_type": "code",
   "execution_count": 56,
   "metadata": {},
   "outputs": [
    {
     "name": "stdout",
     "output_type": "stream",
     "text": [
      "1.0132456102380443\n"
     ]
    }
   ],
   "source": [
    "from sklearn.metrics import mean_squared_error\n",
    "from math import sqrt\n",
    "# rmse = sqrt(mean_squared_error(実際の値, 予測した値))\n",
    "rmse = sqrt(mean_squared_error(y_true, pred))\n",
    "print(rmse)"
   ]
  },
  {
   "cell_type": "markdown",
   "metadata": {},
   "source": [
    "# 回帰評価方法(決定係数)\n",
    "\n",
    "p.293にて、以下のコードが記載されておりますが、  \n",
    "<code>\n",
    "from sklearn.linear_model import LinearRegression\n",
    "from sklearn.metrics import r2_score\n",
    "model = LinearRegression\n",
    "model.fit(X, y)\n",
    "result = model.score(X, y)\n",
    "</code>\n",
    "\n",
    "正しくは次のセルのコードを実行ください。"
   ]
  },
  {
   "cell_type": "code",
   "execution_count": 77,
   "metadata": {},
   "outputs": [],
   "source": [
    "y_true = [2, 3, 1, 2]\n",
    "pred = [1.9, 2.8 , 0.8, 1.8]"
   ]
  },
  {
   "cell_type": "code",
   "execution_count": 80,
   "metadata": {},
   "outputs": [
    {
     "data": {
      "text/plain": [
       "0.9349999999999999"
      ]
     },
     "execution_count": 80,
     "metadata": {},
     "output_type": "execute_result"
    }
   ],
   "source": [
    "from sklearn.metrics import r2_score\n",
    "r2_score(y_true, pred)"
   ]
  }
 ],
 "metadata": {
  "kernelspec": {
   "display_name": "Python 3",
   "language": "python",
   "name": "python3"
  },
  "language_info": {
   "codemirror_mode": {
    "name": "ipython",
    "version": 3
   },
   "file_extension": ".py",
   "mimetype": "text/x-python",
   "name": "python",
   "nbconvert_exporter": "python",
   "pygments_lexer": "ipython3",
   "version": "3.7.3"
  }
 },
 "nbformat": 4,
 "nbformat_minor": 2
}
